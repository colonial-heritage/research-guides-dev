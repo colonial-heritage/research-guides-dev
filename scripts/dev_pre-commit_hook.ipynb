{
 "cells": [
  {
   "cell_type": "markdown",
   "id": "45b261e9-fc8a-4262-ab8f-ac4e3a2958ef",
   "metadata": {},
   "source": [
    "# TODO\n",
    "\n",
    " - add \"index\" value to dicts in YAML lists\n",
    " - flatten concept/entity information to be inside of main text\n",
    " - convert YAML to JSON\n",
    " - "
   ]
  },
  {
   "cell_type": "code",
   "execution_count": 1,
   "id": "4ed90090-e072-423a-b1d5-656ee669e5c4",
   "metadata": {},
   "outputs": [],
   "source": [
    "from tqdm import tqdm\n",
    "import os\n",
    "from glob import glob\n",
    "import yaml\n",
    "import json\n",
    "\n",
    "BASE_DIR = \"..\"\n",
    "OUT_DIR = f\"{BASE_DIR}/forKinsukAndSjors\"\n"
   ]
  },
  {
   "cell_type": "code",
   "execution_count": 2,
   "id": "89ca31d9-8f28-4483-9949-0992ba3bc6d3",
   "metadata": {
    "scrolled": true
   },
   "outputs": [
    {
     "data": {
      "text/plain": [
       "['../TopLevel/TopLevel_Dutch.yml',\n",
       " '../TopLevel/TopLevel_English.yml',\n",
       " '../niveau1/Dutch/Verslagleggen_20240501.yml',\n",
       " '../niveau1/Dutch/SelecterenEnAfbakenen_20240425.yml',\n",
       " '../niveau1/Dutch/Bronnen_20240425.yml',\n",
       " '../niveau1/Dutch/Onderzoeken_20240425.yml',\n",
       " '../niveau1/Dutch/HoeGebruikIkDeDatahub_20240424.yml',\n",
       " '../niveau3/Dutch/NZG_20240314.yml',\n",
       " '../niveau3/Dutch/KKZ_20240313.yml',\n",
       " '../niveau3/Dutch/WMLeiden_20240327.yml',\n",
       " '../niveau3/Dutch/KVVAK_20240312.yml',\n",
       " '../niveau3/Dutch/KunsthandelVanLier_20240313.yml',\n",
       " '../niveau3/Dutch/KoninklijkeBazar_20240313.yml',\n",
       " '../niveau3/Dutch/PieterPott_20240312.yml',\n",
       " '../niveau3/Dutch/WageningenUniversity_20240327.yml',\n",
       " '../niveau2/Dutch/LegerEnMarine_20240326.yml',\n",
       " '../niveau2/Dutch/Handel_20240326.yml',\n",
       " '../niveau2/Dutch/Ambtenaren_20240320.yml',\n",
       " '../niveau2/Dutch/ZendingEnMissie_20240326.yml',\n",
       " '../niveau1/English/HowToUseTheDataHub_20240424.yml',\n",
       " '../niveau1/English/DoingResearch_20240425.yml',\n",
       " '../niveau1/English/Reporting_20240501.yml',\n",
       " '../niveau1/English/Sources_20240501.yml',\n",
       " '../niveau1/English/SelectAndDelineate_20240425.yml',\n",
       " '../niveau3/English/NZG_20240508.yml',\n",
       " '../niveau3/English/KoninklijkeBazaar_2040503.yml',\n",
       " '../niveau3/English/WageningenUniversity_20240508.yml',\n",
       " '../niveau3/English/KunsthandelVanLier_20240507.yml',\n",
       " '../niveau3/English/RAAS_20240508.yml',\n",
       " '../niveau3/English/PieterPott_20240508.yml',\n",
       " '../niveau3/English/RCC_20240417.yml',\n",
       " '../niveau3/English/WMLeiden_20240508.yml',\n",
       " '../niveau2/English/Trade_20240316.yml',\n",
       " '../niveau2/English/CivilServants_20240316.yml',\n",
       " '../niveau2/English/MilitaryAndNavy_20240417.yml',\n",
       " '../niveau2/English/ChristianMission_20240417.yml']"
      ]
     },
     "execution_count": 2,
     "metadata": {},
     "output_type": "execute_result"
    }
   ],
   "source": [
    "eng = glob(f\"{BASE_DIR}/*/English/*.yml\")\n",
    "dutch = glob(f\"{BASE_DIR}/*/Dutch/*.yml\")\n",
    "top = glob(f\"{BASE_DIR}/TopLevel/*.yml\")\n",
    "\n",
    "yaml_files = top + dutch + eng\n",
    "\n",
    "yaml_files"
   ]
  },
  {
   "cell_type": "code",
   "execution_count": 37,
   "id": "62bd27ea-d2c6-47c9-bb90-43b323bb9667",
   "metadata": {},
   "outputs": [],
   "source": [
    "def get_filename(orig_path):\n",
    "    import re\n",
    "\n",
    "    m = re.search(f'.+\\/(.*)_[0-9]+\\.yml', orig_path)\n",
    "    if m:\n",
    "        return m.group(1)\n",
    "    raise ValueError(f\"{orig_path} couldn't be parsed!\")\n",
    "\n",
    "# comment"
   ]
  },
  {
   "cell_type": "code",
   "execution_count": 38,
   "id": "d9ee0c2d-ea63-44b2-b14c-2945e55bfc6e",
   "metadata": {
    "scrolled": true
   },
   "outputs": [
    {
     "name": "stderr",
     "output_type": "stream",
     "text": [
      " 22%|████▍               | 8/36 [00:00<00:00, 36.29it/s]"
     ]
    },
    {
     "name": "stdout",
     "output_type": "stream",
     "text": [
      "../TopLevel/TopLevel_Dutch.yml\n",
      "../TopLevel/TopLevel_English.yml's filename can't be parsed\n",
      "../niveau1/Dutch/Verslagleggen_20240501.yml\n",
      "../niveau3/Dutch/NZG_20240314.yml\n"
     ]
    },
    {
     "name": "stderr",
     "output_type": "stream",
     "text": [
      "100%|███████████████████| 36/36 [00:00<00:00, 48.08it/s]\n"
     ]
    }
   ],
   "source": [
    "for f in tqdm(yaml_files):\n",
    "    try:\n",
    "        with open(f) as handle:\n",
    "            yaml_content = yaml.safe_load(handle)\n",
    "    \n",
    "        yaml_content[\"File name\"] = get_filename(f)\n",
    "\n",
    "        \n",
    "    \n",
    "        \n",
    "        new_name = f.split(os.path.sep, maxsplit=1)[1]\n",
    "        new_name = new_name.replace(\".yml\", \".json\")\n",
    "        new_name = f\"{OUT_DIR}/{new_name}\"\n",
    "    \n",
    "        os.makedirs(os.path.dirname(new_name), exist_ok=True)\n",
    "        with open(new_name, \"w\") as handle:\n",
    "            json.dump(yaml_content, handle)\n",
    "    except yaml.scanner.ScannerError:\n",
    "        print(f)\n",
    "    except yaml.parser.ParserError:\n",
    "        print(f)\n",
    "    except ValueError:\n",
    "        print(f\"{f}'s filename can't be parsed\")\n",
    "    \n"
   ]
  },
  {
   "cell_type": "code",
   "execution_count": 14,
   "id": "4b4528bc-16ee-47db-b9ec-bfa872bf0af3",
   "metadata": {},
   "outputs": [
    {
     "data": {
      "text/plain": [
       "{'Level': 2,\n",
       " 'Title': 'Christian mission',\n",
       " 'Abstract': 'Missionaries frequently contributed to the collection of objects during the colonial era.',\n",
       " 'RelatedAides': [{'Sources': {'link': 'niveau1/English/Sources_20240501.yml',\n",
       "    'rel_type': 'broader'}},\n",
       "  {'Select and delineate': {'link': 'niveau1/English/SelectAndDelineate_20240425.yml',\n",
       "    'rel_type': 'broader'}},\n",
       "  {'Nederlandsch Zendeling Genootschap': {'link': 'niveau3/English/NZG_20240508.yml',\n",
       "    'rel_type': 'example'}}],\n",
       " 'Relevant data': {'Tags': {'Activity': ['[Brother](http://www.wikidata.org/entity/Q16824629)',\n",
       "    '[Friar](http://vocab.getty.edu/aat/300266789)',\n",
       "    '[Missionary](http://www.wikidata.org/entity/Q219477)',\n",
       "    '[Father](http://www.wikidata.org/entity/Q435940)',\n",
       "    '[Protestant missionary](http://www.wikidata.org/entity/Q20746152)',\n",
       "    '[Sister](https://www.wikidata.org/entity/Q191808)'],\n",
       "   'Geographical': ['[China](https://www.geonames.org/1814991)',\n",
       "    '[Congo](https://www.geonames.org/203312)',\n",
       "    '[Indonesia](https://www.geonames.org/1643084)',\n",
       "    '[Java](https://www.geonames.org/1642673)',\n",
       "    '[Sulawesi](https://www.geonames.org/9062340)',\n",
       "    '[Republic of Suriname](https://www.geonames.org/3382998)']}},\n",
       " 'Main-text': [{'content': \"##Description\\nFrom the Netherlands during the colonial era, [Protestant](https://data.indischherinneringscentrum.nl/ied/104099) and [Catholic](https://hdl.handle.net/20.500.11840/termmaster25128) mission were practiced. Both Christian groups focused on the Dutch colonies, particularly Suriname and the Dutch East Indies, but missionaries were also active in China, the United States and Congo, among other places. Missionary organizations had demarcated among themselves regions in which they were active, without further official agreements. \\n\\nThe missionaries brought objects from the areas where they were working, sometimes at the request of the organizations that sent them out. The objects were displayed during education about the organization's work or for the purpose of raising funds. When the organizations disposed of the objects, they then ended up in other collections, such as those of ethnographic museums. Individual missionaries also donated and sold objects to such museums. Objects from the mission also ended up in trade and private collections.\\n\\nThe collecting practices of missionary organizations have long been known to be aimed at erasing - in their eyes - pagan practices. Cultural heritage was destroyed or objects were taken to Europe to prevent their continued use in non-Christian rituals. Recent research, however, has nuanced this picture.\\n\\nThe objects that missionaries brought back from the colonies were regularly displayed in buildings of the organizations where they worked. Some organizations set up their own museums, for example, the [Mission Museum in Steyl](https://www.wikidata.org/entity/Q2534749) (established in 1931). The collection of African objects of the [Congregation of the Holy Spirit](https://www.wikidata.org/entity/Q687562) was on display at the [Wereldmuseum Berg en Dal](https://www.wikidata.org/entity/Q2470853) (formerly the Afrika Museum, established in 1954) through November 2024. The [Nederlandsch Zendeling Genootschap](https://www.wikidata.org/entity/Q1946670), which was active in Java and Sulawesi, was also very active in collecting. Objects collected by this organization are mainly found in the collection of the [Wereldmuseum Rotterdam](https://www.wikidata.org/entity/Q2042754), but also at other museums.\\n\\n##Provenance research\\nInformation from individual missionary workers can often be found in literature about and archives of the organizations for which they worked. A first step may be to determine which organization is involved. The portal [Repertorium van Nederlandse zendings- en missiearchieven 1800-1960] (https://resources.huygens.knaw.nl/repertoriumzendingmissie) contains lists of names of missionary workers (under the heading Annexes) and information on each organization. From there it is possible to search through the relevant archives. Some missionary organizations were internationally branched, in such cases relevant information may also be located in other European countries. For Germany, this information can be found through the portals [Proveana] (https://www.proveana.de/en/start) and [Archivführer zur deutschen Kolonialgeschichte] (https://archivfuehrer-kolonialzeit.de).\\n\\nMissionary workers sometimes worked in specific positions, such as doctor, nurse or teacher, and are described under these roles in the sources. They can then be identified as missionaries by looking at the organization for which they worked.\\n\\nArchives of missionary organizations are scattered. Substantial archival collections are located at the [Utrechts Archief](https://hetutrechtsarchief.nl/), [Archive and Documentation Center of the Reformed Churches in the Netherlands](https://adckampen.nl/), [HDC|Protestants Erfgoed](https://vu.nl/nl/over-de-vu/diensten/universiteitsbibliotheek/meer-over/collectie-hdc-protestants-erfgoed) at the Vrije Universiteit, [Catholic Documentation Center](https://www.ru.nl/kdc/), and the [Erfgoedcentrum Nederlands Kloosterleven](https://erfgoedkloosterleven.nl/). Archives can also often still be found in the countries where the mission and mission were active, often owned by the organizations themselves.\\n\"},\n",
       "  {'content-type': 'text/markdown'}],\n",
       " 'Sources': {'Primary sources': [{'Type of source': 'Map',\n",
       "    'Name': 'Mission areas in Indonesia',\n",
       "    'Link': 'https://resources.huygens.knaw.nl/media/missiezending/afb/zendingsterreinenindonesie.jpg',\n",
       "    'Description and remarks': 'The Mission Map in the Repertorium van Nederlandse zendings- en missiearchieven 1800-1960 provides an overview of which Protestant organizations were active in the former Dutch East Indies.'},\n",
       "   {'Type of source': 'Web portal',\n",
       "    'Name': 'Repertorium van Nederlandse zendings- en missiearchieven 1800-1960',\n",
       "    'Link': 'https://resources.huygens.knaw.nl/repertoriumzendingmissie',\n",
       "    'Description and remarks': 'The Repertorium van Nederlandse zendings- en missiearchieven 1800-1960 is a portal with descriptions of missionary organizations, literature references and information on archival sources.'}],\n",
       "  'Secondary sources': [{'Type of source': 'Article',\n",
       "    'Name': \"Corbey, Raymond, en Karel Weener. 'Collecting While Converting: Missionaries and Ethnographics.' Journal of Art Historiography 12 (2015).\",\n",
       "    'Link': 'https://research.tilburguniversity.edu/files/7806097/Corbey_Weener_2015.pdf',\n",
       "    'Description and remarks': 'Article from 2015 providing an overview of ethnographic collecting by missionaries.'},\n",
       "   {'Type of source': 'Article',\n",
       "    'Name': \"Hård, Mikael, en Mai Lin Tjoa-Bonatz. 'Trading zones in a colony: Transcultural techniques at missionary stations in the Dutch East Indies, 1860–1940.' Social Studies of Science 50, no. 6 (2020): 932-955.\",\n",
       "    'Link': 'https://dx.doi.org/10.1177/0306312720925913',\n",
       "    'Description and remarks': 'Article from 2020 that examines German missionaries in the Dutch East Indies and how their residences functioned as trading zones, where cultural exchange took place.'},\n",
       "   {'Type of source': 'Book',\n",
       "    'Name': \"Leyten, Harrie. From idol to art: African 'objects with power': a challenge for missionaries, anthropologists and museum curators. Leiden: African Studies Centre, 2015.\",\n",
       "    'Link': 'https://research.tilburguniversity.edu/files/5749831/Leijten_From_idol_15_04_2015.pdf',\n",
       "    'Description and remarks': \"Dissertation from 2015 by Harrie Leyten, who was himself a missionary in Ghana between 1961 and 1971 and later curator of the African collection at the Tropenmuseum in Amsterdam. The dissertation is a reflection on Leyten's long career.\"},\n",
       "   {'Type of source': 'Article',\n",
       "    'Name': 'Leyten, Harrie. “Shared cultural heritage: missionary collections in the Netherlands.” Material Religion 8, no. 1 (2012): 103-104.',\n",
       "    'Link': 'https://doi.org/10.2752/175183412X13286288798051',\n",
       "    'Description and remarks': 'Article by Harrie Leyten on collections in the Netherlands collected by missionaries.'},\n",
       "   {'Type of source': 'Book chapter',\n",
       "    'Name': 'Tjoa-Bonatz, Mai Lin. “Idols and Art: Missionary Attitudes toward Indigenous Worship and the Material Culture on Nias, Indonesia, 1904-1920.” In Casting faiths : imperialism and the transformation of religion in East and Southeast Asia, edited by Thomas David Dubois, 105-128. New York: Palgrave, 2009.',\n",
       "    'Link': 'https://doi.org/10.1057/9780230235458_5',\n",
       "    'Description and remarks': 'Chapter in the book In Casting Faiths by Mai Lin Tjoa-Bonatz on the influence of missionaries on the Christianization of the people of Nias.'},\n",
       "   {'Type of source': 'Book chapter',\n",
       "    'Name': 'Wingfield, Chris. “Missionary Museums.“ In Religion in Museums: Global and Multidisciplinary Perspectives, edited by Gretchen Buggeln, Crispin Paine, S. Brent Plate, 231-238. London: Bloomsbury, 2017.',\n",
       "    'Link': 'https://doi.org/10.5040/9781474255554.ch-026',\n",
       "    'Description and remarks': 'Chapter in the book Religion in Museums by Chris Wingfield on mission museums.'}]}}"
      ]
     },
     "execution_count": 14,
     "metadata": {},
     "output_type": "execute_result"
    }
   ],
   "source": [
    "yaml_content[\"File name\": \"KoninklijkeBazaar\n"
   ]
  },
  {
   "cell_type": "code",
   "execution_count": 32,
   "id": "974692eb-2698-43ab-b600-6c55119ec295",
   "metadata": {},
   "outputs": [
    {
     "data": {
      "text/plain": [
       "'RAAS_20240508'"
      ]
     },
     "execution_count": 32,
     "metadata": {},
     "output_type": "execute_result"
    }
   ],
   "source": [
    "get_filename(\"/Dutch/SelecterenEnAfbakenen_20240425.yml\")"
   ]
  }
 ],
 "metadata": {
  "kernelspec": {
   "display_name": "Python 3 (ipykernel)",
   "language": "python",
   "name": "python3"
  },
  "language_info": {
   "codemirror_mode": {
    "name": "ipython",
    "version": 3
   },
   "file_extension": ".py",
   "mimetype": "text/x-python",
   "name": "python",
   "nbconvert_exporter": "python",
   "pygments_lexer": "ipython3",
   "version": "3.11.6"
  }
 },
 "nbformat": 4,
 "nbformat_minor": 5
}
