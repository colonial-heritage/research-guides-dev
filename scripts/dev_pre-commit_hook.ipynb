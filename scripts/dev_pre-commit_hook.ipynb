{
 "cells": [
  {
   "cell_type": "markdown",
   "id": "45b261e9-fc8a-4262-ab8f-ac4e3a2958ef",
   "metadata": {},
   "source": [
    "# TODO\n",
    "\n",
    " - add \"index\" value to dicts in YAML lists\n",
    " - flatten concept/entity information to be inside of main text\n",
    " - convert YAML to JSON\n",
    " - "
   ]
  },
  {
   "cell_type": "code",
   "execution_count": 1,
   "id": "4ed90090-e072-423a-b1d5-656ee669e5c4",
   "metadata": {},
   "outputs": [],
   "source": [
    "from tqdm import tqdm\n",
    "import os\n",
    "from glob import glob\n",
    "import yaml\n",
    "import json\n",
    "\n",
    "BASE_DIR = \"..\"\n",
    "OUT_DIR = f\"{BASE_DIR}/forKinsukAndSjors\"\n"
   ]
  },
  {
   "cell_type": "code",
   "execution_count": 2,
   "id": "89ca31d9-8f28-4483-9949-0992ba3bc6d3",
   "metadata": {
    "scrolled": true
   },
   "outputs": [
    {
     "data": {
      "text/plain": [
       "['../niveau1/Dutch/HowToUseTheDataHub_20240424.yml',\n",
       " '../niveau1/Dutch/DoingResearch_20240425.yml',\n",
       " '../niveau1/Dutch/Reporting_20240501.yml',\n",
       " '../niveau1/Dutch/Sources_20240425.yml',\n",
       " '../niveau1/Dutch/SelectAndDelineate_20240425.yml',\n",
       " '../niveau3/Dutch/NZG_20240314.yml',\n",
       " '../niveau3/Dutch/KKZ_20240313.yml',\n",
       " '../niveau3/Dutch/WMLeiden_20240327.yml',\n",
       " '../niveau3/Dutch/KVVAK_20240312.yml',\n",
       " '../niveau3/Dutch/KunsthandelVanLier_20240313.yml',\n",
       " '../niveau3/Dutch/KoninklijkeBazar_20240313.yml',\n",
       " '../niveau3/Dutch/PieterPott_20240312.yml',\n",
       " '../niveau3/Dutch/WageningenUniversity_20240327.yml',\n",
       " '../niveau2/Dutch/CivilServants_20240320.yml',\n",
       " '../niveau2/Dutch/ChristianMission_20240326.yml',\n",
       " '../niveau2/Dutch/Trade_20240326.yml',\n",
       " '../niveau2/Dutch/MilitaryAndNavy_20240326.yml',\n",
       " '../niveau0/Dutch/TopLevel_20240606.yml',\n",
       " '../niveau1/English/HowToUseTheDataHub_20240424.yml',\n",
       " '../niveau1/English/DoingResearch_20240425.yml',\n",
       " '../niveau1/English/Reporting_20240501.yml',\n",
       " '../niveau1/English/Sources_20240501.yml',\n",
       " '../niveau1/English/SelectAndDelineate_20240425.yml',\n",
       " '../niveau3/English/NZG_20240508.yml',\n",
       " '../niveau3/English/KoninklijkeBazaar_2040503.yml',\n",
       " '../niveau3/English/WageningenUniversity_20240508.yml',\n",
       " '../niveau3/English/KunsthandelVanLier_20240507.yml',\n",
       " '../niveau3/English/KVVAK_20240508.yml',\n",
       " '../niveau3/English/PieterPott_20240508.yml',\n",
       " '../niveau3/English/KKZ_20240417.yml',\n",
       " '../niveau3/English/WMLeiden_20240508.yml',\n",
       " '../niveau2/English/Trade_20240316.yml',\n",
       " '../niveau2/English/CivilServants_20240316.yml',\n",
       " '../niveau2/English/MilitaryAndNavy_20240417.yml',\n",
       " '../niveau2/English/ChristianMission_20240417.yml',\n",
       " '../niveau0/English/TopLevel_20240606.yml']"
      ]
     },
     "execution_count": 2,
     "metadata": {},
     "output_type": "execute_result"
    }
   ],
   "source": [
    "eng = glob(f\"{BASE_DIR}/*/English/*.yml\")\n",
    "dutch = glob(f\"{BASE_DIR}/*/Dutch/*.yml\")\n",
    "top = glob(f\"{BASE_DIR}/TopLevel/*.yml\")\n",
    "\n",
    "yaml_files = top + dutch + eng\n",
    "\n",
    "yaml_files"
   ]
  },
  {
   "cell_type": "code",
   "execution_count": 3,
   "id": "62bd27ea-d2c6-47c9-bb90-43b323bb9667",
   "metadata": {},
   "outputs": [],
   "source": [
    "def get_filename(orig_path):\n",
    "    import re\n",
    "\n",
    "    m = re.search(f'.+\\/(.*)_[0-9]+\\.yml', orig_path)\n",
    "    if m:\n",
    "        return m.group(1)\n",
    "    raise ValueError(f\"{orig_path} couldn't be parsed!\")\n",
    "\n",
    "# commentasda"
   ]
  },
  {
   "cell_type": "code",
   "execution_count": 9,
   "id": "d9ee0c2d-ea63-44b2-b14c-2945e55bfc6e",
   "metadata": {
    "scrolled": true
   },
   "outputs": [
    {
     "name": "stderr",
     "output_type": "stream",
     "text": [
      "100%|██████████████████████████████████████████████████████████████████████████████| 36/36 [00:00<00:00, 129.05it/s]\n"
     ]
    }
   ],
   "source": [
    "from datetime import datetime\n",
    "\n",
    "for f in tqdm(yaml_files):\n",
    "    try:\n",
    "        with open(f) as handle:\n",
    "            yaml_content = yaml.safe_load(handle)\n",
    "    \n",
    "        yaml_content[\"File name\"] = get_filename(f)\n",
    "\n",
    "        \n",
    "        \n",
    "    \n",
    "        \n",
    "        new_name = f.split(os.path.sep, maxsplit=1)[1]\n",
    "        new_name = new_name.rsplit(os.path.sep, maxsplit=1)[0]\n",
    "        new_name = f\"{OUT_DIR}/{new_name}/{yaml_content['File name']}.json\"\n",
    "        # new_name = new_name.replace(\".yml\", \".json\")\n",
    "        # new_name = f\"{OUT_DIR}/{new_name}\"\n",
    "    \n",
    "        # os.makedirs(os.path.dirname(new_name), exist_ok=True)\n",
    "        # with open(new_name, \"w\") as handle:\n",
    "        #     json.dump(yaml_content, handle)\n",
    "    # except yaml.scanner.ScannerError:\n",
    "    #     print(f)\n",
    "    # except yaml.parser.ParserError:\n",
    "    #     print(f)\n",
    "    except ValueError:\n",
    "        print(f\"{f}'s filename can't be parsed\")\n",
    "    \n"
   ]
  },
  {
   "cell_type": "code",
   "execution_count": null,
   "id": "4b4528bc-16ee-47db-b9ec-bfa872bf0af3",
   "metadata": {},
   "outputs": [],
   "source": [
    "yaml_content[\"File name\": \"KoninklijkeBazaar\n"
   ]
  },
  {
   "cell_type": "code",
   "execution_count": 7,
   "id": "974692eb-2698-43ab-b600-6c55119ec295",
   "metadata": {},
   "outputs": [
    {
     "data": {
      "text/plain": [
       "'Ambtenaren'"
      ]
     },
     "execution_count": 7,
     "metadata": {},
     "output_type": "execute_result"
    }
   ],
   "source": [
    "get_filename(\"/Dutch/Ambtenaren_20240320.yml\")"
   ]
  },
  {
   "cell_type": "code",
   "execution_count": 5,
   "id": "9fac9efd-d0a8-4914-b875-61070118cd43",
   "metadata": {},
   "outputs": [
    {
     "data": {
      "text/plain": [
       "{'Level': 0,\n",
       " 'Title': 'Digital research guide',\n",
       " 'Subtitle': 'Research aides for conducting provenance research into colonial collections',\n",
       " 'Content': {'content': '\"On this page you find various research aides that can assist you in conducting (provenance) research into Dutch colonial collections. The research aides are intended to guide users in the first steps of their research into objects in Dutch collections acquired in a colonial context. The research aides are linked in an intuitive way, allowing relevant information to be quickly found. There are three different types of research aides. Firstly, there are general research aides that answer questions such as *How can I use the data hub for my research?* *Where can I find sources for my research?* and *How do I write a provenance report?* Secondly, there are research aides that provide information on general topics related to colonial collections in the Netherlands, such as the role of civil servants, missionaries and military personnel in collecting objects, or research aides regarding the trade in objects originating from former colonized areas. Thirdly, there are research aides that contain specific information about, for example, museums, other heritage institutions or individual trading companies. In addition to a brief description of the subject, the research aides provide the user with specific tips for conducting research and references to relevant source material.\"\\n',\n",
       "  'content_type': 'text/markdown'},\n",
       " 'Breakdown': {'Provenance research into colonial collections': [{'Title': 'How can I use the data hub for my research?',\n",
       "    'Link': 'niveau1/English/HowToUseTheDataHub_20240424.yml'},\n",
       "   {'Title': 'Select and delineate',\n",
       "    'Link': 'niveau1/English/SelectAndDelineate_20240425.yml'},\n",
       "   {'Title': 'Doing research',\n",
       "    'Link': 'niveau1/English/DoingResearch_20240425.yml'},\n",
       "   {'Title': 'Sources', 'Link': 'niveau1/English/Sources_20240501.yml'},\n",
       "   {'Title': 'Reporting', 'Link': 'niveau1/English/Reporting_20240501.yml'}],\n",
       "  'Topics': [{'Title': 'The trade in colonial objects',\n",
       "    'Link': 'niveau2/English/Trade_20240316.yml',\n",
       "    'Subtopics': [{'Title': 'Groote Koninklijke Bazar',\n",
       "      'Link': 'niveau3/English/KoninklijkeBazaar_2040503.yml'},\n",
       "     {'Title': 'Kunsthandel Van Lier',\n",
       "      'Link': 'niveau3/English/KunsthandelVanLier_20240507.yml'},\n",
       "     {'Title': 'Royal Asian Art Society in the Netherlands',\n",
       "      'Link': 'niveau3/English/RAAS_20240508.yml'},\n",
       "     {'Title': 'Wereldmuseum Leiden',\n",
       "      'Link': 'niveau3/English/WMLeiden_20240508.yml'},\n",
       "     {'Title': 'Royal Cabinet of Curiosities',\n",
       "      'Link': 'niveau3/English/RCC_20240417.yml'}]},\n",
       "   {'Title': 'Civil servants in the colonies',\n",
       "    'Link': 'niveau2/English/CivilServants_20240316.yml',\n",
       "    'Subtopics': [{'Title': 'Pieter H. Pott',\n",
       "      'Link': 'niveau3/English/PieterPott_20240508.yml'},\n",
       "     {'Title': 'Wageningen University & Research',\n",
       "      'Link': 'niveau3/English/WageningenUniversity_20240508.yml'}]},\n",
       "   {'Title': 'Military and navy personnel',\n",
       "    'Link': 'niveau2/English/MilitaryAndNavy_20240417.yml',\n",
       "    'Subtopics': [{'Title': 'Royal Cabinet of Curiosities',\n",
       "      'Link': 'niveau3/English/RCC_20240417.yml'},\n",
       "     {'Title': 'Wereldmuseum Leiden',\n",
       "      'Link': 'niveau3/English/WMLeiden_20240508.yml'}]},\n",
       "   {'Title': 'Christian missionaries',\n",
       "    'Link': 'niveau2/English/ChristianMission_20240417.yml',\n",
       "    'Subtopics': [{'Title': 'Nederlandsch Zendeling Genootschap',\n",
       "      'Link': 'niveau3/English/NZG_20240508.yml'}]}],\n",
       "  'Locations': []},\n",
       " 'File name': 'TopLevel'}"
      ]
     },
     "execution_count": 5,
     "metadata": {},
     "output_type": "execute_result"
    }
   ],
   "source": [
    "yaml_content"
   ]
  }
 ],
 "metadata": {
  "kernelspec": {
   "display_name": "Python 3 (ipykernel)",
   "language": "python",
   "name": "python3"
  },
  "language_info": {
   "codemirror_mode": {
    "name": "ipython",
    "version": 3
   },
   "file_extension": ".py",
   "mimetype": "text/x-python",
   "name": "python",
   "nbconvert_exporter": "python",
   "pygments_lexer": "ipython3",
   "version": "3.11.6"
  }
 },
 "nbformat": 4,
 "nbformat_minor": 5
}
