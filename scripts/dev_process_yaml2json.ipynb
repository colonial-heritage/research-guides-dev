{
 "cells": [
  {
   "cell_type": "markdown",
   "id": "45b261e9-fc8a-4262-ab8f-ac4e3a2958ef",
   "metadata": {},
   "source": [
    "# TODO\n",
    "\n",
    " - add \"index\" value to dicts in YAML lists\n",
    " - flatten concept/entity information to be inside of main text"
   ]
  },
  {
   "cell_type": "code",
   "execution_count": 1,
   "id": "4ed90090-e072-423a-b1d5-656ee669e5c4",
   "metadata": {},
   "outputs": [],
   "source": [
    "from tqdm import tqdm\n",
    "import os\n",
    "from glob import glob\n",
    "import yaml\n",
    "import json\n",
    "import re\n",
    "\n",
    "BASE_DIR = \"..\"\n",
    "OUT_DIR = f\"{BASE_DIR}/forKinsukAndSjors\"\n"
   ]
  },
  {
   "cell_type": "code",
   "execution_count": 2,
   "id": "89ca31d9-8f28-4483-9949-0992ba3bc6d3",
   "metadata": {
    "scrolled": true
   },
   "outputs": [
    {
     "data": {
      "text/plain": [
       "['../niveau1/Dutch/HowToUseTheDataHub_20240424.yml',\n",
       " '../niveau1/Dutch/DoingResearch_20240425.yml',\n",
       " '../niveau1/Dutch/Reporting_20240501.yml',\n",
       " '../niveau1/Dutch/Sources_20240425.yml',\n",
       " '../niveau1/Dutch/SelectAndDelineate_20240425.yml',\n",
       " '../niveau3/Dutch/NZG_20240314.yml',\n",
       " '../niveau3/Dutch/KKZ_20240313.yml',\n",
       " '../niveau3/Dutch/WMLeiden_20240327.yml',\n",
       " '../niveau3/Dutch/KVVAK_20240312.yml',\n",
       " '../niveau3/Dutch/KunsthandelVanLier_20240313.yml',\n",
       " '../niveau3/Dutch/KoninklijkeBazar_20240313.yml',\n",
       " '../niveau3/Dutch/PieterPott_20240312.yml',\n",
       " '../niveau3/Dutch/WageningenUniversity_20240327.yml',\n",
       " '../niveau2/Dutch/CivilServants_20240320.yml',\n",
       " '../niveau2/Dutch/ChristianMission_20240326.yml',\n",
       " '../niveau2/Dutch/Trade_20240326.yml',\n",
       " '../niveau2/Dutch/MilitaryAndNavy_20240326.yml',\n",
       " '../niveau0/Dutch/TopLevel_20240606.yml',\n",
       " '../niveau1/English/HowToUseTheDataHub_20240424.yml',\n",
       " '../niveau1/English/DoingResearch_20240425.yml',\n",
       " '../niveau1/English/Reporting_20240501.yml',\n",
       " '../niveau1/English/Sources_20240501.yml',\n",
       " '../niveau1/English/SelectAndDelineate_20240425.yml',\n",
       " '../niveau3/English/NZG_20240508.yml',\n",
       " '../niveau3/English/KoninklijkeBazaar_2040503.yml',\n",
       " '../niveau3/English/WageningenUniversity_20240508.yml',\n",
       " '../niveau3/English/KunsthandelVanLier_20240507.yml',\n",
       " '../niveau3/English/KVVAK_20240508.yml',\n",
       " '../niveau3/English/PieterPott_20240508.yml',\n",
       " '../niveau3/English/KKZ_20240417.yml',\n",
       " '../niveau3/English/WMLeiden_20240508.yml',\n",
       " '../niveau2/English/Trade_20240316.yml',\n",
       " '../niveau2/English/CivilServants_20240316.yml',\n",
       " '../niveau2/English/MilitaryAndNavy_20240417.yml',\n",
       " '../niveau2/English/ChristianMission_20240417.yml',\n",
       " '../niveau0/English/TopLevel_20240606.yml']"
      ]
     },
     "execution_count": 2,
     "metadata": {},
     "output_type": "execute_result"
    }
   ],
   "source": [
    "eng = glob(f\"{BASE_DIR}/*/English/*.yml\")\n",
    "dutch = glob(f\"{BASE_DIR}/*/Dutch/*.yml\")\n",
    "top = glob(f\"{BASE_DIR}/TopLevel/*.yml\")\n",
    "\n",
    "yaml_files = top + dutch + eng\n",
    "\n",
    "yaml_files"
   ]
  },
  {
   "cell_type": "code",
   "execution_count": 30,
   "id": "62bd27ea-d2c6-47c9-bb90-43b323bb9667",
   "metadata": {},
   "outputs": [],
   "source": [
    "def parse_filename(orig_path, has_path=False):\n",
    "\n",
    "    path_part = '.+\\/' if has_path else ''\n",
    "    m = re.search(f'{path_part}(.*)_[0-9]+\\.yml', orig_path)\n",
    "    if m:\n",
    "        return m.group(1)\n",
    "    raise ValueError(f\"{orig_path} couldn't be parsed!\")\n",
    "\n",
    "def parse_filepath(fp):\n",
    "    *pref, level, lang, fname  = fp.split(os.path.sep)\n",
    "    return level, lang, parse_filename(fname)\n",
    "\n",
    "\n",
    "def addlinkFilename(rels):\n",
    "    for d1 in rels:\n",
    "        ((n, val),) = d1.items()\n",
    "        level, lang, name = parse_filepath(val['link'])\n",
    "        val = val | {\"linkFilename\": f\"{level}/{lang}/{name}_{lang}\"}\n",
    "        yield {n: val}\n",
    "\n",
    "def addEntityInfotoText(d, lang):\n",
    "    assert lang in (\"English\", \"Dutch\")\n",
    "    main = d[\"Main-text\"][\"content\"]\n",
    "    rlv = d[\"Relevant data\"]\n",
    "\n",
    "    header = \"Name variations\" if lang == \"English\" else \"Naamsvarianten\"\n",
    "    name_vars = \"\\n\".join(f\" - {v}\" for v in rlv['Name variations'])\n",
    "    main += f\"\\n### {header}\\n{name_vars}\\n\\n\"\n",
    "\n",
    "    header = \"Period of activity\" if lang == \"English\" else \"Periode actief\"\n",
    "    period = f\"{rlv['Period of activity']['Year of start']} -- {rlv['Period of activity']['Year of end']}\"\n",
    "    main += f\"\\n### {header}\\n{period}\\n\\n\"\n",
    "\n",
    "    if isinstance(rlv['Identifiers'], list):\n",
    "        header = \"External identifiers\" if lang == \"English\" else \"Externe identificatie\"\n",
    "        external = \"\\n\".join(f\" - {v}\" for v in rlv['Identifiers'])\n",
    "        main += f\"\\n### {header}\\n{external}\\n\\n\"\n",
    "    # d[\"Main-text\"][\"content\"] = main\n",
    "    \n",
    "    return main"
   ]
  },
  {
   "cell_type": "code",
   "execution_count": 32,
   "id": "d9ee0c2d-ea63-44b2-b14c-2945e55bfc6e",
   "metadata": {
    "scrolled": true
   },
   "outputs": [
    {
     "name": "stderr",
     "output_type": "stream",
     "text": [
      " 14%|██████████▉                                                                    | 5/36 [00:00<00:00, 183.68it/s]"
     ]
    },
    {
     "name": "stdout",
     "output_type": "stream",
     "text": [
      "../niveau1/Dutch/HowToUseTheDataHub_20240424.yml\n",
      "../forKinsukAndSjors/niveau1/Dutch/HowToUseTheDataHub_Dutch.json\n",
      "\n",
      "../niveau1/Dutch/DoingResearch_20240425.yml\n",
      "../forKinsukAndSjors/niveau1/Dutch/DoingResearch_Dutch.json\n",
      "\n",
      "../niveau1/Dutch/Reporting_20240501.yml\n",
      "../forKinsukAndSjors/niveau1/Dutch/Reporting_Dutch.json\n",
      "\n",
      "../niveau1/Dutch/Sources_20240425.yml\n",
      "../forKinsukAndSjors/niveau1/Dutch/Sources_Dutch.json\n",
      "\n",
      "../niveau1/Dutch/SelectAndDelineate_20240425.yml\n",
      "../forKinsukAndSjors/niveau1/Dutch/SelectAndDelineate_Dutch.json\n",
      "\n",
      "../niveau3/Dutch/NZG_20240314.yml\n"
     ]
    },
    {
     "name": "stderr",
     "output_type": "stream",
     "text": [
      "\n"
     ]
    },
    {
     "ename": "TypeError",
     "evalue": "list indices must be integers or slices, not str",
     "output_type": "error",
     "traceback": [
      "\u001b[0;31m---------------------------------------------------------------------------\u001b[0m",
      "\u001b[0;31mTypeError\u001b[0m                                 Traceback (most recent call last)",
      "Cell \u001b[0;32mIn[32], line 16\u001b[0m\n\u001b[1;32m     13\u001b[0m     yaml_content[\u001b[38;5;124m\"\u001b[39m\u001b[38;5;124mRelatedAides\u001b[39m\u001b[38;5;124m\"\u001b[39m] \u001b[38;5;241m=\u001b[39m \u001b[38;5;28mlist\u001b[39m(addlinkFilename(yaml_content[\u001b[38;5;124m\"\u001b[39m\u001b[38;5;124mRelatedAides\u001b[39m\u001b[38;5;124m\"\u001b[39m]))\n\u001b[1;32m     15\u001b[0m \u001b[38;5;28;01mif\u001b[39;00m \u001b[38;5;124m\"\u001b[39m\u001b[38;5;124mRelevant data\u001b[39m\u001b[38;5;124m\"\u001b[39m \u001b[38;5;129;01min\u001b[39;00m yaml_content: \u001b[38;5;66;03m# and \"Main-text\" in yaml_content\u001b[39;00m\n\u001b[0;32m---> 16\u001b[0m     d[\u001b[38;5;124m\"\u001b[39m\u001b[38;5;124mMain-text\u001b[39m\u001b[38;5;124m\"\u001b[39m][\u001b[38;5;124m\"\u001b[39m\u001b[38;5;124mcontent\u001b[39m\u001b[38;5;124m\"\u001b[39m] \u001b[38;5;241m=\u001b[39m \u001b[43maddEntityInfotoText\u001b[49m\u001b[43m(\u001b[49m\u001b[43myaml_content\u001b[49m\u001b[43m,\u001b[49m\u001b[43m \u001b[49m\u001b[43mlang\u001b[49m\u001b[43m)\u001b[49m\n\u001b[1;32m     19\u001b[0m new_name \u001b[38;5;241m=\u001b[39m \u001b[38;5;124mf\u001b[39m\u001b[38;5;124m\"\u001b[39m\u001b[38;5;132;01m{\u001b[39;00mOUT_DIR\u001b[38;5;132;01m}\u001b[39;00m\u001b[38;5;124m/\u001b[39m\u001b[38;5;132;01m{\u001b[39;00mlevel\u001b[38;5;132;01m}\u001b[39;00m\u001b[38;5;124m/\u001b[39m\u001b[38;5;132;01m{\u001b[39;00mlang\u001b[38;5;132;01m}\u001b[39;00m\u001b[38;5;124m/\u001b[39m\u001b[38;5;132;01m{\u001b[39;00mname\u001b[38;5;132;01m}\u001b[39;00m\u001b[38;5;124m_\u001b[39m\u001b[38;5;132;01m{\u001b[39;00mlang\u001b[38;5;132;01m}\u001b[39;00m\u001b[38;5;124m.json\u001b[39m\u001b[38;5;124m\"\u001b[39m\n\u001b[1;32m     20\u001b[0m \u001b[38;5;28mprint\u001b[39m(new_name)\n",
      "Cell \u001b[0;32mIn[30], line 23\u001b[0m, in \u001b[0;36maddEntityInfotoText\u001b[0;34m(d, lang)\u001b[0m\n\u001b[1;32m     21\u001b[0m \u001b[38;5;28;01mdef\u001b[39;00m \u001b[38;5;21maddEntityInfotoText\u001b[39m(d, lang):\n\u001b[1;32m     22\u001b[0m     \u001b[38;5;28;01massert\u001b[39;00m lang \u001b[38;5;129;01min\u001b[39;00m (\u001b[38;5;124m\"\u001b[39m\u001b[38;5;124mEnglish\u001b[39m\u001b[38;5;124m\"\u001b[39m, \u001b[38;5;124m\"\u001b[39m\u001b[38;5;124mDutch\u001b[39m\u001b[38;5;124m\"\u001b[39m)\n\u001b[0;32m---> 23\u001b[0m     main \u001b[38;5;241m=\u001b[39m \u001b[43md\u001b[49m\u001b[43m[\u001b[49m\u001b[38;5;124;43m\"\u001b[39;49m\u001b[38;5;124;43mMain-text\u001b[39;49m\u001b[38;5;124;43m\"\u001b[39;49m\u001b[43m]\u001b[49m\u001b[43m[\u001b[49m\u001b[38;5;124;43m\"\u001b[39;49m\u001b[38;5;124;43mcontent\u001b[39;49m\u001b[38;5;124;43m\"\u001b[39;49m\u001b[43m]\u001b[49m\n\u001b[1;32m     24\u001b[0m     rlv \u001b[38;5;241m=\u001b[39m d[\u001b[38;5;124m\"\u001b[39m\u001b[38;5;124mRelevant data\u001b[39m\u001b[38;5;124m\"\u001b[39m]\n\u001b[1;32m     26\u001b[0m     header \u001b[38;5;241m=\u001b[39m \u001b[38;5;124m\"\u001b[39m\u001b[38;5;124mName variations\u001b[39m\u001b[38;5;124m\"\u001b[39m \u001b[38;5;28;01mif\u001b[39;00m lang \u001b[38;5;241m==\u001b[39m \u001b[38;5;124m\"\u001b[39m\u001b[38;5;124mEnglish\u001b[39m\u001b[38;5;124m\"\u001b[39m \u001b[38;5;28;01melse\u001b[39;00m \u001b[38;5;124m\"\u001b[39m\u001b[38;5;124mNaam variaties\u001b[39m\u001b[38;5;124m\"\u001b[39m\n",
      "\u001b[0;31mTypeError\u001b[0m: list indices must be integers or slices, not str"
     ]
    }
   ],
   "source": [
    "from datetime import datetime\n",
    "\n",
    "for f in tqdm(yaml_files):\n",
    "    try:\n",
    "        print(f)\n",
    "        with open(f) as handle:\n",
    "            yaml_content = yaml.safe_load(handle)\n",
    "\n",
    "        level, lang, name = parse_filepath(f)\n",
    "        yaml_content[\"File name\"] = name\n",
    "        # link_list = \"RelatedAides\" if \"RelatedAides\" in yaml_content else \n",
    "        if \"RelatedAides\" in yaml_content:\n",
    "            yaml_content[\"RelatedAides\"] = list(addlinkFilename(yaml_content[\"RelatedAides\"]))\n",
    "\n",
    "        # if \"Relevant data\" in yaml_content: # and \"Main-text\" in yaml_content\n",
    "        #     d[\"Main-text\"][\"content\"] = addEntityInfotoText(yaml_content, lang)\n",
    "\n",
    "        \n",
    "        new_name = f\"{OUT_DIR}/{level}/{lang}/{name}_{lang}.json\"\n",
    "        print(new_name)\n",
    "        print()\n",
    "    \n",
    "        # new_name = f.split(os.path.sep, maxsplit=1)[1]\n",
    "        # new_name = new_name.rsplit(os.path.sep, maxsplit=1)[0]\n",
    "        # pref, lang = new_name.\n",
    "        # new_name = f\"{OUT_DIR}/{new_name}/{yaml_content['File name']}.json\"\n",
    "        # new_name = new_name.replace(\".yml\", \".json\")\n",
    "        # new_name = f\"{OUT_DIR}/{new_name}\"\n",
    "    \n",
    "        # os.makedirs(os.path.dirname(new_name), exist_ok=True)\n",
    "        # with open(new_name, \"w\") as handle:\n",
    "        #     json.dump(yaml_content, handle)\n",
    "    # except yaml.scanner.ScannerError:\n",
    "    #     print(f)\n",
    "    # except yaml.parser.ParserError:\n",
    "    #     print(f)\n",
    "    except ValueError:\n",
    "        print(f\"{f}'s filename can't be parsed\")"
   ]
  },
  {
   "cell_type": "code",
   "execution_count": 33,
   "id": "55ed9c12-e2e7-4531-b5c4-f08b19c5bc0d",
   "metadata": {},
   "outputs": [
    {
     "name": "stdout",
     "output_type": "stream",
     "text": [
      "Relevant data\n",
      "Sources\n"
     ]
    }
   ],
   "source": [
    "f = \"../niveau3/Dutch/NZG_20240314.yml\"\n",
    "\n",
    "with open(f) as handle:\n",
    "    yaml_content = yaml.safe_load(handle)\n",
    "    level, lang, name = parse_filepath(f)\n",
    "    yaml_content[\"File name\"] = name\n",
    "        # link_list = \"RelatedAides\" if \"RelatedAides\" in yaml_content else \n",
    "    if \"RelatedAides\" in yaml_content:\n",
    "        yaml_content[\"RelatedAides\"] = list(addlinkFilename(yaml_content[\"RelatedAides\"]))\n",
    "        \n",
    "for k, v in yaml_content.items():\n",
    "    if isinstance(v, dict):\n",
    "        print(k)\n",
    "\n"
   ]
  },
  {
   "cell_type": "markdown",
   "id": "69b7b0c4-3c78-4562-a7ab-7cd31553b6b9",
   "metadata": {},
   "source": [
    "---"
   ]
  },
  {
   "cell_type": "code",
   "execution_count": 27,
   "id": "ff12cd1f-f20d-48dc-9e74-8362d0c7b04d",
   "metadata": {},
   "outputs": [
    {
     "data": {
      "text/plain": [
       "'https://www.wikidata.org/entity/Q65850179'"
      ]
     },
     "execution_count": 27,
     "metadata": {},
     "output_type": "execute_result"
    }
   ],
   "source": [
    "yaml_content[\"Relevant data\"][\"Identifiers\"]"
   ]
  },
  {
   "cell_type": "markdown",
   "id": "b3b04b86-18ff-49e2-ab36-35e4fc7f88e4",
   "metadata": {},
   "source": [
    "---\n",
    "\n",
    "# testing"
   ]
  },
  {
   "cell_type": "code",
   "execution_count": null,
   "id": "18b3250c-da56-4a36-bbfc-b4fc5f71b738",
   "metadata": {},
   "outputs": [],
   "source": [
    "# are filenames the same across Dutch and English?\n",
    "\n",
    "def filename(f):\n",
    "    return f.rsplit(os.path.sep, maxsplit=1)[1]\n",
    "\n",
    "for d in glob(\"../forKinsukAndSjors/*\"):\n",
    "    nl = map(filename, glob(d+\"/Dutch/*\"))\n",
    "    en = map(filename, glob(d+\"/English/*\"))\n",
    "    diff = set(nl) ^ set(en)\n",
    "    \n",
    "    if diff:\n",
    "        print(d, diff)\n"
   ]
  }
 ],
 "metadata": {
  "kernelspec": {
   "display_name": "Python 3 (ipykernel)",
   "language": "python",
   "name": "python3"
  },
  "language_info": {
   "codemirror_mode": {
    "name": "ipython",
    "version": 3
   },
   "file_extension": ".py",
   "mimetype": "text/x-python",
   "name": "python",
   "nbconvert_exporter": "python",
   "pygments_lexer": "ipython3",
   "version": "3.11.6"
  }
 },
 "nbformat": 4,
 "nbformat_minor": 5
}
