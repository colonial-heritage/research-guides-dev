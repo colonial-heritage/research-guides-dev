{
 "cells": [
  {
   "cell_type": "markdown",
   "id": "c54c1183-529c-43bd-8ec8-a200900d47c7",
   "metadata": {},
   "source": [
    "---\n",
    "\n",
    "### for me\n",
    "\n",
    " - [YAML Cheatsheet](https://quickref.me/yaml.html)\n",
    " - [YAML Viewer](https://jsonformatter.org/yaml-viewer)\n",
    "\n",
    "# Notes\n",
    "\n",
    " - provide links and URIs wherever possible\n",
    " - _extended_ YAML with inline links in Markdown style [text](https://www.example.org)\n",
    " - \n",
    "\n",
    "# Feedback\n",
    "\n",
    " - the more you annotate _what_ the information in the guides _is_ (types, meta-info), the more information we can extract and potentially link together with the Datahub\n",
    " - try to keep structures _across_ guides of different levels _and_ pieces of information as uniform as possible\n",
    "   -> makes info _predictable_ for others and allows to link more into the Datahub\n",
    " - \n",
    "\n",
    "# Problems\n",
    "\n",
    " - which URIs?\n",
    "   -> definitely the Datahub ones _at some point_ but those aren't ready yet\n",
    "  - which thesaurus/thesauri?\n",
    "\n",
    "# Thoughts, Ideas\n",
    "\n",
    " - link directly to other search guides (across levels)\n",
    " - link directly to example objects that the current guide pertains to (is examplary of)\n",
    "   -> this serves the \"points of acces\"/\"portals\" motivation of the research guides\n",
    "\n",
    "---"
   ]
  },
  {
   "cell_type": "code",
   "execution_count": 28,
   "id": "b80d66c3-9b77-410e-9dbf-0ca1611b2db6",
   "metadata": {},
   "outputs": [],
   "source": [
    "import yaml\n",
    "\n",
    "with open('Kunsthandel_van_Lier.yaml', 'r') as file:\n",
    "    van_lier = yaml.safe_load(file)"
   ]
  },
  {
   "cell_type": "code",
   "execution_count": 29,
   "id": "b2fb8c29-6a7d-4998-ba68-b9755423ac08",
   "metadata": {
    "scrolled": true
   },
   "outputs": [
    {
     "data": {
      "text/plain": [
       "{'Title': 'Kunsthandel van Lier',\n",
       " 'Identifiers': {'Wikidata': 'https://www.wikidata.org/entity/Q87665942',\n",
       "  'Nationaal Museum van Wereldculturen': 'https://hdl.handle.net/20.500.11840/pi57937',\n",
       "  'Beschrijving RKD': {'URI': 'https://rkd.nl/nl/explore/artists/49975',\n",
       "   'name': 'Kunsthandel Leendert van Lier'}},\n",
       " 'Tags': {'activiteit': 'Handel',\n",
       "  'type object': ['Etnografica', 'keramiek', 'sculpturen (houtsnijwerk)'],\n",
       "  'geografisch': ['Afrika',\n",
       "   'Azië',\n",
       "   'Indonesië',\n",
       "   'China',\n",
       "   'Congo',\n",
       "   'Papua',\n",
       "   'Noord-Amerika',\n",
       "   'Zuid-Amerika',\n",
       "   'Oceanië']},\n",
       " 'Naamsvarianten': ['Kunstzaal Van Lier',\n",
       "  'Carel van Lier',\n",
       "  'Leendert van Lier'],\n",
       " 'Periode actief': {'beginjaar': 1924, 'eindjaar': 1996},\n",
       " 'Omschrijving': 'Carel van Lier (1897-1945) begon in 1924 een galerie in Laren en verhuisde drie jaar later naar Amsterdam. Kunstzaal Van Lier hield zich vooral bezig met moderne Europese kunst. Van Lier raakte echter ook in de ban van de esthetiek van de Afrikaanse beeldhouwkunst en beschouwde veel houtsnijwerk puur als kunst. De tentoonstelling van zijn privécollectie Afrikaanse kunst in het Gemeentemuseum Amsterdam in 1927 beïnvloedde modernistische schilders. Al snel handelde Van Lier in Aziatische kunst, Afrikaanse beeldhouwkunst en etnografische voorwerpen uit de hele wereld (waaronder inheems Noord-Amerika). Deze werden verworven van particuliere verzamelaars in\\nNederland, aankoopreizen naar Londen, Parijs, Brussel en Antwerpen, en via zijn netwerk van relaties in de internationale handel in etnografische kunst, met name kunsthandelaar Charles Ratton in Parijs. De joodse Carel van Lier stierf in 1945 in een Duits concentratiekamp.\\n\\nKunstzaal Van Lier is na de oorlog nog enige jaren voortgezet door Elisabeth van de Velde, de weduwe Van Lier. In 1949 verkocht zij de zaak aan Leendert van Lier (1910-1995, geen familie). Leendert van Lier zette de zaak voort en verkocht eveneens tribale kunst, Chinese keramiek en moderne Europese kunst. In 1954 verhuisde hij naar Utrecht en werden de zaken vanuit zijn huis gedaan. Een soortgelijke regeling werd vanaf 1961 voortgezet in het stadje Veere in de provincie Zeeland, waar liefhebbers van tribale kunst, zoals hoogleraar en verzamelaar Theo Van Baaren, hem wisten te vinden. Van Lier maakte regelmatig reizen naar Londen en Parijs om voorwerpen voor zijn handel te verwerven. Na zijn dood werd in 1997 zijn collectie etnografica geveild bij Christie’s Amsterdam.\\n',\n",
       " 'Collecties': {'notes': 'Voorwerpen die zijn verkocht door Kunstzaal (kunsthandel) van Lier bevinden in zich onder andere het Wereldmuseum Amsterdam, Wereldmuseum Leiden, Wereldmuseum Rotterdam, Museum de Fundatie, Museum Boijmans van Beuningen, Weltkulturenmuseum Frankfurt. Ook in de collectie van Museum Nusantara bevonden zich voorwerpen die bij kunsthandel Van Lier waren gekocht.\\n',\n",
       "  'links': {'Sub-collection1 in the DataHub': 'SPARQL QUERY',\n",
       "   'Sub-collection2 in the DataHub': 'SPARQL QUERY'}}}"
      ]
     },
     "execution_count": 29,
     "metadata": {},
     "output_type": "execute_result"
    }
   ],
   "source": [
    "van_lier#[\"Periode actief\"][\"beginjaar\"]"
   ]
  },
  {
   "cell_type": "code",
   "execution_count": 32,
   "id": "72f312ad-2d83-44e0-a815-bdd43beb6e3e",
   "metadata": {
    "scrolled": true
   },
   "outputs": [
    {
     "data": {
      "text/plain": [
       "{'Title': 'Leger en Marine',\n",
       " 'Paginatitel': 'Zoekhulp Militairen en Marinepersoneel',\n",
       " 'Zoektermen': {'activiteit': ['Officier',\n",
       "   'onderofficier',\n",
       "   'soldaat',\n",
       "   'luitenant ter zee',\n",
       "   'adelborst',\n",
       "   'matroos'],\n",
       "  'type object': [None],\n",
       "  'geografisch': ['Antillen', 'Suriname', 'Indonesië', 'Oceanië']},\n",
       " 'Inleiding': 'Het Nederlandse gezag in Nederlands-Indië, Suriname en op de Caribische eilanden steunde in belangrijke mate op de inzet van het leger. In Nederlands-Indië was het Koninklijk Nederlandsch- Indisch Leger (KNIL) actief. Het KNIL werd gevormd door officieren met Nederlandse of een andere Europese nationaliteit en veelal lokale soldaten. In Suriname en Curaçao was de koloniale troepenmacht in de 19de eeuw het West-Indische leger, dat op zijn beurt deel was van het Nederlandse leger. In de 20ste eeuw werden de officieren voor Suriname gerekruteerd uit het KNIL, terwijl de onderofficieren en soldaten zowel in Europa als lokaal werden geworven. Tijdens de onafhankelijkheidsoorlog van Indonesië (1945-1949) werden tienduizenden dienstplichtige soldaten uit het Nederlandse leger ingezet.\\n\\nSlechts een gering aantal voorwerpen in Nederlandse musea betreft officiële oorlogsbuit die op bevel van de koloniale legers naar Nederland werd gezonden. Een bekend voorbeeld is de zogenaamde Lombokschat. Er zijn veel meer voorwerpen die afkomstig zijn van individuele militairen en die door particulier initiatief in Nederland terechtkwamen. Er waren verschillende manieren waarop militair personeel aan deze voorwerpen kwamen: ze konden zijn buitgemaakt, geschonken of gekocht van de lokale bevolking.\\n\\nIn het geval van ontvangen geschenken en voorwerpen die zijn gekocht door militairen moet onthouden worden dat er sprake was van ongelijke machtsverhoudingen tussen kolonisator en gekoloniseerde. Voorwerpen kunnen zijn verkocht of geschonken uit angst, om de overheerser te gunstig te stemmen of omdat de voortdurende oorlogssituatie leidde tot verarming van de bevolking.\\n',\n",
       " 'Tips voor herkomstonderzoek': 'Militairen in de koloniale legers wisselden regelmatig van functie en standplaats en zij klommen op in rang. De rang die vermeld staat in de objectdocumentatie kan een andere zijn dan de rang ten tijde van verwerving in het herkomstland. De personeelsdossiers (stamboeken) in het Nationaal Archief en de officiersboekjes zijn betrouwbare bronnen om de rang, functie en standplaats ten tijde van verwerving te achterhalen. Via de gedigitaliseerde kranten op [Delpher.nl](https://www.delpher.nl/) kan nadere informatie over de oorlogshandelingen en verdere werkzaamheden van de betreffende militair worden achterhaald.\\n\\nOm informatie over een militair te vinden is het van belang om eerst te bepalen bij welk leger of legeronderdeel de militair in dienst was, zoals de Landmacht (Nederlands leger), het KNIL of de marine. De [zoekhulpen](https://www.nationaalarchief.nl/onderzoeken/zoekhulpen/militairen-en- marinepersoneel) van het Nationaal Archief kunnen daarbij van dienst zijn. \\n\\nDe personeelsdossiers van de dienstplichtig soldaten die in 1945-1949 naar Indonesië zijn uitgezonden bevinden zich tot 2026-2027 bij het Ministerie van Defensie en zijn daar [opvraagbaar](https://www.defensie.nl/onderwerpen/privacyrechten/privacyrechten-persoonsgegevens). Om toegang te krijgen tot een staat van dienst moet een akte van overlijden worden meegestuurd. Voor overlijdensaktes gelden AVG beperkingen, maar een uittreksel van de persoonskaart geldt ook. De uittreksels zijn opvraagbaar bij het CBG (Centrum voor Familiegeschiedenis). Belangrijke informatie op de staat van dienst betreft de legereenheid waarin de soldaat diende. Met betrekking tot vrijwel iedere legereenheid zijn archiefstukken en/of egodocumenten in archieven en publicaties te vinden. Deze bevinden zich met name in de collecties van het NIOD, het NIMH en bij de Universitaire Bibliotheken Leiden.\\n',\n",
       " 'Bronnen voor herkomstonderzoek': {'algmene opmerkingen': 'Van sommige Nederlanders die werkzaam waren in de koloniale legers zijn persoonlijke archieven bewaard gebleven, met daarin bijvoorbeeld dagboeken, memoires, correspondentie en rapporten die beroepshalve zijn gemaakt. Dergelijke particuliere archieven zijn te vinden in talloze archiefdiensten in Nederland. Het is daarom raadzaam om de zoektocht te beginnen bij [www.archieven.nl](https://www.archieven.nl/). Niet alle archiefdiensten zijn hier te vinden, dus het is veelal noodzakelijk om de zoektocht buiten deze website te vervolgen. Veel persoonlijke archieven van militairen zijn te vinden bij de Universitaire Bibliotheken Leiden (KITLV archief), het Nederlands Instituut voor Militaire Historie (NIMH), het Nationaal Archief en in Museum Bronbeek. Soms zijn er nog archiefstukken in particulier bezit, bijvoorbeeld bij de nabestaanden.\\n',\n",
       "  'bronnen': [{'type': 'zoekhulp',\n",
       "    'omschrijving': 'Via het Nationaal Archief zijn de personeelsdossiers (stamboeken) van militairen en marinepersoneel digitaal doorzoekbaar. Er zijn zoekhulpen voor Nederlands-Indië, West-Indië en de verschillende marine- en legeronderdelen. De stamboeken bevatten informatie over wanneer een militair of marinier waar gestationeerd was en summiere persoonlijke gegevens. Een verklarende [woordenlijst](https://www.nationaalarchief.nl/onderzoeken/zoekhulpen/militaire-stamboeken-afkortingen-en-verklarende-woordenlijst) geeft uitleg over de afkortingen in de stamboeken.\\n\\nhttps://www.nationaalarchief.nl/onderzoeken/zoekhulpen/militairen-en-marinepersoneel\\n',\n",
       "    'opmerking': 'Tip: De gegevens in de stamboeken worden soms vervolgd op een andere pagina. Er staat dan een notitie onderaan de pagina: “zie verder” met het betreffende paginanummer.\\n'},\n",
       "   {'type': 'tijdschrift',\n",
       "    'omschrijving': 'De Regeeringsalmanak voor Nederlandsch-Indië (1865-1939) bevat de standplaatsen en functies van KNIL officieren. \\n\\nhttps://www.delpher.nl/nl/tijdschriften/results?facets%5BalternativeFacet%5D%5B%5D=Regerings-almanak+voor+Nederlandsch-Indie%CC%88&page=1&coll=dts\\n\\nhttps://digital.staatsbibliothek-berlin.de/suche?queryString=PPN718684745\\n',\n",
       "    'opmerking': 'Zoek in [www.delpher.nl](www.delpher.nl) binnen de tijdschriften met de zoekterm “regerings-almanak”.\\n'},\n",
       "   {'type': 'webportal',\n",
       "    'omschrijving': '[Nederlands Militair Erfgoed](https://nlme.nl/) is een portal met militaire bronnen uit verschillende collecties in Nederland, waaronder beeldmateriaal, tijdschriften en boeken. Voor herkomstonderzoek zijn met name de officiersboekjes en de historische tijdschriften van belang.      \\n'},\n",
       "   {'type': 'museum',\n",
       "    'omschrijving': '[Museum Bronbeek](https://www.defensie.nl/onderwerpen/bronbeek) is een kenniscentrum van het koloniaal-militair verleden van Nederland. De nadruk ligt op Nederlands-Indië, maar er is ook materiaal uit andere koloniën aanwezig. U kunt contact opnemen met de medewerkers om informatie te vragen over een bepaalde militair of gebeurtenis.\\n'},\n",
       "   {'type': 'beeldcollectie',\n",
       "    'omschrijving': '[De Beeldbank](https://nimh-beeldbank.defensie.nl/) van het Nederlands Instituut voor Militaire Historie bevat historisch beeldmateriaal.\\n'}]},\n",
       " 'Literatuur': [{'type': 'boek',\n",
       "   'referentie': 'Keurs, Pieter ter, ed. Colonial Collecting Revisited. Leiden: CNWS Publications, 2007.',\n",
       "   'URL': 'https://www.worldcat.org/title/907175634'},\n",
       "  {'type': 'artikel',\n",
       "   'referentie': 'Witkam, Jan Just. “Teuku Panglima Polem’s Purse: Manuscripts as War Booty in Colonial Times.” Journal of Islamic Manuscripts 10, no. 1 (2019): 84–104.',\n",
       "   'URL': 'https://brill.com/downloadpdf/journals/jim/10/1/article-p84_4.xml'}],\n",
       " 'Verwante zoekhulpen': [{'link1': 'AUTOMATICALLY EXTRACTED',\n",
       "   'titel': 'SOME TITLE'},\n",
       "  {'link2': 'AUTOMATICALLY EXTRACTED'},\n",
       "  {'link3': 'AUTOMATICALLY EXTRACTED'}]}"
      ]
     },
     "execution_count": 32,
     "metadata": {},
     "output_type": "execute_result"
    }
   ],
   "source": [
    "with open('Leger_en_Marine.yaml', 'r') as file:\n",
    "    leger = yaml.safe_load(file)\n",
    "leger"
   ]
  },
  {
   "cell_type": "markdown",
   "id": "aabdce73-2ae7-42ee-972e-34a409770ce7",
   "metadata": {},
   "source": [
    "---"
   ]
  },
  {
   "cell_type": "code",
   "execution_count": null,
   "id": "a914f791-973c-4300-99ed-b30018e16a45",
   "metadata": {},
   "outputs": [],
   "source": [
    "{'Title': 'Kunsthandel van Lier',\\\n"
   ]
  }
 ],
 "metadata": {
  "kernelspec": {
   "display_name": "Python 3 (ipykernel)",
   "language": "python",
   "name": "python3"
  },
  "language_info": {
   "codemirror_mode": {
    "name": "ipython",
    "version": 3
   },
   "file_extension": ".py",
   "mimetype": "text/x-python",
   "name": "python",
   "nbconvert_exporter": "python",
   "pygments_lexer": "ipython3",
   "version": "3.11.6"
  }
 },
 "nbformat": 4,
 "nbformat_minor": 5
}
