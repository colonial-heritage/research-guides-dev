{
 "cells": [
  {
   "cell_type": "markdown",
   "id": "c54c1183-529c-43bd-8ec8-a200900d47c7",
   "metadata": {},
   "source": [
    "---\n",
    "\n",
    "### for me\n",
    "\n",
    " - [YAML Cheatsheet](https://quickref.me/yaml.html)\n",
    " - [YAML Viewer](https://jsonformatter.org/yaml-viewer)\n",
    "\n",
    "# Notes\n",
    "\n",
    " - provide links and URIs wherever possible\n",
    " - _extended_ YAML with inline links in Markdown style [text](https://www.example.org)\n",
    " - \n",
    "\n",
    "# Feedback\n",
    "\n",
    " - the more you annotate _what_ the information in the guides _is_ (types, meta-info), the more information we can extract and potentially link together with the Datahub\n",
    " - try to keep structures _across_ guides of different levels _and_ pieces of information as uniform as possible\n",
    "   -> makes info _predictable_ for others and allows to link more into the Datahub\n",
    " - \n",
    "\n",
    "# Problems\n",
    "\n",
    " - which URIs?\n",
    "   -> definitely the Datahub ones _at some point_ but those aren't ready yet\n",
    "  - which thesaurus/thesauri?\n",
    "\n",
    "# Thoughts, Ideas\n",
    "\n",
    " - link directly to other search guides (across levels)\n",
    " - link directly to example objects that the current guide pertains to (is examplary of)\n",
    "   -> this serves the \"points of acces\"/\"portals\" motivation of the research guides\n",
    "\n",
    "---"
   ]
  },
  {
   "cell_type": "markdown",
   "id": "7168dc1c-e5b2-44dd-b414-c86521455594",
   "metadata": {},
   "source": [
    "# YAML to Markdown Parsing - custom-built"
   ]
  },
  {
   "cell_type": "code",
   "execution_count": 1,
   "id": "5ed800ee-ee8b-4316-832f-2ccffea6d8f7",
   "metadata": {},
   "outputs": [
    {
     "name": "stdout",
     "output_type": "stream",
     "text": [
      "../published/niveau3/English/NZG_20240508.yml 'Link'\n",
      "../published/niveau3/English/NZG_20240508.yml 'Link'\n"
     ]
    }
   ],
   "source": [
    "from glob import glob\n",
    "import yaml\n",
    "\n",
    "from ResearchAids import ResearchAid\n",
    "\n",
    "BASE_DIR = \"../published\"\n",
    "eng = glob(f\"{BASE_DIR}/*/English/*.yml\")\n",
    "dutch = glob(f\"{BASE_DIR}/*/Dutch/*.yml\")\n",
    "# top = glob(f\"{BASE_DIR}/TopLevel/*.yml\")\n",
    "\n",
    "yaml_files = sorted(dutch + eng)\n",
    "\n",
    "for filename in yaml_files:\n",
    "    with open(filename) as handle:\n",
    "        yml = yaml.safe_load(handle)\n",
    "        try:\n",
    "            r = ResearchAid(yml, raise_parsing_error=True)\n",
    "        except KeyError as e:\n",
    "            print(filename, e)\n",
    "            # raise\n",
    "            if \"remarks\" in str(e):\n",
    "                print(filename, e)\n",
    "                raise\n",
    "            else:\n",
    "                print(filename, e)\n",
    "        except AttributeError as e:\n",
    "            print(filename, e)\n",
    "\n"
   ]
  },
  {
   "cell_type": "code",
   "execution_count": null,
   "id": "5b91eb07-4321-43f2-8400-81c2f2e01aa4",
   "metadata": {
    "scrolled": true
   },
   "outputs": [],
   "source": [
    "for y in yamls:\n",
    "    print(y.keys())"
   ]
  },
  {
   "cell_type": "code",
   "execution_count": null,
   "id": "669398ee-5377-4786-819a-547a96111c01",
   "metadata": {},
   "outputs": [],
   "source": [
    "# print(YAML2MD(yamls[1])())\n",
    "# yamls[3][\"Relevant data\"]#[\"Tags\"]\n",
    "print([s.keys() for s in yamls[2][\"Sources\"]['Secondary sources']][0], \"\\n---\")\n",
    "print([s.keys() for s in yamls[3][\"Sources\"]['Secondary sources']][0])\n",
    "\n"
   ]
  },
  {
   "cell_type": "code",
   "execution_count": null,
   "id": "501ead81-9f70-4806-adff-9a1aabe975a4",
   "metadata": {
    "scrolled": true
   },
   "outputs": [],
   "source": [
    "# print(Level2(yamls[2])())\n",
    "\n",
    "print(ResearchAid(yamls[0], raise_parsing_error=True)())"
   ]
  },
  {
   "cell_type": "code",
   "execution_count": null,
   "id": "3ad23abe-4dde-4d23-a0e2-c77ed8a6be2a",
   "metadata": {},
   "outputs": [],
   "source": [
    "with open(\"../published/niveau3/English/NZG_20240508.yml\") as handle:\n",
    "    yml = yaml.safe_load(handle)\n",
    "\n",
    "[d.keys() for d in yml[\"Sources\"]['Secondary sources']]\n",
    "yml[\"Sources\"]['Secondary sources']"
   ]
  },
  {
   "cell_type": "markdown",
   "id": "c6ab3697-b138-4dda-af74-df8f3ed1fc6d",
   "metadata": {},
   "source": [
    "---"
   ]
  },
  {
   "cell_type": "code",
   "execution_count": null,
   "id": "3804eee3-0689-4585-959f-df046c519eee",
   "metadata": {},
   "outputs": [],
   "source": []
  }
 ],
 "metadata": {
  "kernelspec": {
   "display_name": "Python 3 (ipykernel)",
   "language": "python",
   "name": "python3"
  },
  "language_info": {
   "codemirror_mode": {
    "name": "ipython",
    "version": 3
   },
   "file_extension": ".py",
   "mimetype": "text/x-python",
   "name": "python",
   "nbconvert_exporter": "python",
   "pygments_lexer": "ipython3",
   "version": "3.12.7"
  }
 },
 "nbformat": 4,
 "nbformat_minor": 5
}
