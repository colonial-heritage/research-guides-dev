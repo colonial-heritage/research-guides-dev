{
 "cells": [
  {
   "cell_type": "markdown",
   "id": "c54c1183-529c-43bd-8ec8-a200900d47c7",
   "metadata": {},
   "source": [
    "---\n",
    "\n",
    "### for me\n",
    "\n",
    " - [YAML Cheatsheet](https://quickref.me/yaml.html)\n",
    " - [YAML Viewer](https://jsonformatter.org/yaml-viewer)\n",
    "\n",
    "# Notes\n",
    "\n",
    " - provide links and URIs wherever possible\n",
    " - _extended_ YAML with inline links in Markdown style [text](https://www.example.org)\n",
    " - \n",
    "\n",
    "# Feedback\n",
    "\n",
    " - the more you annotate _what_ the information in the guides _is_ (types, meta-info), the more information we can extract and potentially link together with the Datahub\n",
    " - try to keep structures _across_ guides of different levels _and_ pieces of information as uniform as possible\n",
    "   -> makes info _predictable_ for others and allows to link more into the Datahub\n",
    " - \n",
    "\n",
    "# Problems\n",
    "\n",
    " - which URIs?\n",
    "   -> definitely the Datahub ones _at some point_ but those aren't ready yet\n",
    "  - which thesaurus/thesauri?\n",
    "\n",
    "# Thoughts, Ideas\n",
    "\n",
    " - link directly to other search guides (across levels)\n",
    " - link directly to example objects that the current guide pertains to (is examplary of)\n",
    "   -> this serves the \"points of acces\"/\"portals\" motivation of the research guides\n",
    "\n",
    "---"
   ]
  },
  {
   "cell_type": "markdown",
   "id": "7168dc1c-e5b2-44dd-b414-c86521455594",
   "metadata": {},
   "source": [
    "# YAML to Markdown Parsing - custom-built"
   ]
  },
  {
   "cell_type": "code",
   "execution_count": 3,
   "id": "5ed800ee-ee8b-4316-832f-2ccffea6d8f7",
   "metadata": {},
   "outputs": [
    {
     "name": "stdout",
     "output_type": "stream",
     "text": [
      "../published/niveau3/English/Museon_20250513.yml 'str' object has no attribute 'items'\n",
      "../published/niveau3/English/NZG_20240508.yml 'Link'\n",
      "../published/niveau3/English/NZG_20240508.yml 'Link'\n"
     ]
    }
   ],
   "source": [
    "from glob import glob\n",
    "import yaml\n",
    "\n",
    "from ResearchAids import ResearchAid\n",
    "\n",
    "BASE_DIR = \"../published\"\n",
    "eng = glob(f\"{BASE_DIR}/*/English/*.yml\")\n",
    "dutch = glob(f\"{BASE_DIR}/*/Dutch/*.yml\")\n",
    "# top = glob(f\"{BASE_DIR}/TopLevel/*.yml\")\n",
    "\n",
    "yaml_files = sorted(dutch + eng)\n",
    "\n",
    "for filename in yaml_files:\n",
    "    with open(filename) as handle:\n",
    "        yml = yaml.safe_load(handle)\n",
    "        try:\n",
    "            r = ResearchAid(yml, raise_parsing_error=True)\n",
    "        except KeyError as e:\n",
    "            print(filename, e)\n",
    "            # raise\n",
    "            if \"remarks\" in str(e):\n",
    "                print(filename, e)\n",
    "                raise\n",
    "            else:\n",
    "                print(filename, e)\n",
    "        except AttributeError as e:\n",
    "            print(filename, e)\n",
    "\n"
   ]
  },
  {
   "cell_type": "code",
   "execution_count": 4,
   "id": "5e1ce896-9e5b-473e-bfad-32870024d436",
   "metadata": {
    "scrolled": true
   },
   "outputs": [
    {
     "name": "stdout",
     "output_type": "stream",
     "text": [
      "_This is a level 3 Research Aid_\n",
      "_first edited by wiebe reints as original_author on 2025-06-02_\n",
      "_last edited by wiebe reints as original_author on 2025-06-02_\n",
      "\n",
      "\n",
      "# International Colonial and Export Exhibition 1883\n",
      "\n",
      "\n",
      "## Abstract\n",
      "\n",
      "In 1883, the International Colonial and Export Exhibition, also known as the World (or Universal) Exhibition, was held on what is now Museumplein in Amsterdam in 1883 from 1 May until 1 October. In addition to a Dutch colonial pavilion displaying many objects from eastern and western colonies, other countries and companies also held exhibitions.\n",
      "\n",
      "In 1883, the International Colonial and Export Exhibition, also known as the World (or Universal) Exhibition, was held on what is now Museumplein in Amsterdam in 1883 from 1 May until 1 October. In addition to a Dutch colonial pavilion displaying many objects from eastern and western colonies, other countries and companies also held exhibitions.\n",
      "\n",
      "### Description\n",
      "\n",
      "Between 1 May and 31 October 1883, the International Colonial and Export Trade Exhibition, better known as the Amsterdam World Exhibition, was held on the vacant ground behind the [Rijksmuseum](https://app.colonialcollections.nl/en/research-guide/https%3A%2F%2Fn2t%252Enet%2Fark%3A%2F27023%2F0d0d07f9e69d73c961b30ffd357c1e47), which was under construction at the time. Although there was initially little enthusiasm for organising a universal exhibition in the Netherlands, French entrepreneur Edouard Agostini, with the help of foreign investors, managed to persuade the Dutch government. After exhibitions in Vienna, London, Philadelphia and Paris, the Frenchman felt the time was right to showcase the colonial trade in Amsterdam.\n",
      "\n",
      "The main entrance to the exhibition, located directly behind the [Rijksmuseum](https://app.colonialcollections.nl/en/research-guide/https%3A%2F%2Fn2t%252Enet%2Fark%3A%2F27023%2F0d0d07f9e69d73c961b30ffd357c1e47), consisted of two towers made of imitation marble, decorated with Hindu ornamentation and supported by plaster cast plaster elephants. Behind the main entrance was the so-called industry hall, where participating countries displayed their colonial goods and industrial products. To the left of this hall was the Dutch colonial pavilion, the most significant part of the exhibition. This pavilion, designed in a distinctive Moorish-Arabic style, was flanked by two statues: one of Jan Pieterszoon Coen and one of the goddess Victoria, which served as an allegory for the Dutch 'victory' in the Aceh War. Next to this Aceh monument was the so-called Indian village, where eight wooden and bamboo houses from different Indonesian regions were displayed, including their inhabitants. These people, who came from Sumatra, Sunda and Java, were forced to display their crafts during the exhibition, a gamelan performance was held every day. Elsewhere on the grounds was a Surinamese village. As in the Indonesian village, Surinamese houses and inhabitants were exhibited to the European audience.\n",
      "\n",
      "The Dutch colonial pavilion was put together by [Pieter Johannes Veth](http://www.wikidata.org/entity/Q2497749), a Dutch geographer and ethnologist. He also wrote the scientific catalogue after the exhibition ended. To compile the objects in the Dutch pavilion, Veth enlisted the help of various Dutch curators, such as [Lindor Serrurier](http://www.wikidata.org/entity/Q1906999) from the [Rijks Etnographisch Museum](https://app.colonialcollections.nl/en/research-guide/https%3A%2F%2Fn2t%252Enet%2Fark%3A%2F27023%2F77c1a0cf982b33b9e88073c4a704049b) (now the Wereldmuseum Leiden) and Fredericus Anna Jentink from the [Rijksmuseum van Natuurlijke Historie](https://app.colonialcollections.nl/en/research-guide/https%3A%2F%2Fn2t%252Enet%2Fark%3A%2F27023%2Fb897e22a1eae224b0ca13b5ec14d51cb) (now Naturalis), also located in Leiden. P.J. Veth's son, [Daniël Veth](http://www.wikidata.org/entity/Q21068926), was responsible for collecting objects in the Dutch East Indies. He also came up with the idea for the Indonesian village. The exhibition layout devised by P.J. Veth consisted of three main groups, divided into 38 subclasses. Group I concerned “The territory of the colonised and ruled regions”, group II “The indigenous population of those regions” and group III “The Europeans in those regions and their relations with the natives”. While this arrangement built on outdated perceptions, it also legitimised the modern Dutch colonial enterprise: the natural  wealth and surpluses (group I) and the exotic primitivism of the indigenous population (group  II) called for the modernising and civilising entrepreneurship of the Dutch government  and private individuals (group III). As decorative material, the pavilion displayed a number of maps of the Dutch East Indies and various trophies of weapons and flags, which came from the [Bronbeek Military Disabled Home](https://app.colonialcollections.nl/en/research-guide/https%3A%2F%2Fn2t%252Enet%2Fark%3A%2F27023%2F3443ee68039071c8125b16cf2f813f6f) More information about what other countries exhibited during the World Exhibition in Amsterdam can be found in Marieke Bloembergen's book _[Colonial spectacles : the Netherlands and the Dutch East Indies at the world exhibitions, 1880-1931](https://search.worldcat.org/title/70176990)_.\n",
      "\n",
      "### Provenance research\n",
      "\n",
      "After the World Exhibition ended, the objects that had been exhibited in the Dutch colonial pavilion were distributed among various Dutch ethnographic museums. Some ended up at the museum of the Indische Instelling (the predecessor of [Museum Nusantara](https://app.colonialcollections.nl/en/research-guide/https%3A%2F%2Fn2t%252Enet%2Fark%3A%2F27023%2Fec8b8775aab84517def1dbdcd1ccb4ee), the Colonial Museum in Haarlem (a precursor to the [Wereldmuseum Amsterdam](https://app.colonialcollections.nl/en/research-guide/https%3A%2F%2Fn2t%252Enet%2Fark%3A%2F27023%2Fba9397040f2cf7f618e2180fb6c90208) and the [Artis Ethnographic Museum](https://app.colonialcollections.nl/en/research-guide/https%3A%2F%2Fn2t%252Enet%2Fark%3A%2F27023%2F44a7a61d62ca8589d6a93e6fde593593). The majority went to the [Rijks Etnografisch Museum](https://app.colonialcollections.nl/nl/research-guide/https%3A%2F%2Fn2t%252Enet%2Fark%3A%2F27023%2F77c1a0cf982b33b9e88073c4a704049b) in Leiden. In addition, during the World Exhibition, the Leiden museum acquired a collection of Japanese Buddha statues, which still form an important part of the Wereldmuseum's collection in Leiden.\n",
      "\n",
      "The catalogue that P.J. Veth wrote to accompany his object arrangement is [available digitally](http://hdl.handle.net/1887.1/item:129051) via Leiden University. The three volumes cover the three groups of objects described above. There is also a [catalogue by Lindor Suerrurier](https://books.google.nl/books?id=twNWAAAAcAAJ&printsec=frontcover&hl=nl&source=gbs_ge_summary_r&cad=0#v=onepage&q=pitt&f=false) that covers ethnographic objects that were displayed outside the Dutch colonial pavilion, including the collection of the English Lieutenant General Pitt Rivers. Photographer Friedrich Carel Hisgen, together with French geographer Roland Bonaparte, took several photographs of the Surinamese families that were exhibited in the Surinamese village. In 1894, the photographs were published in _[Les Habitants de Suriname; notes receuillies à l'exposition coloniale d'Amsterdam en 1883](http://hdl.handle.net/1887.1/item:972422)_, which is also available through Leiden University. The photo collection of the [Wereldmuseum Rotterdam], which is housed at the Nederlands Fotomuseum, contains a [large number of photos from the World Exhibition in 1883](https://collectie.nederlandsfotomuseum.nl/collectie/?mode=gallery&view=horizontal&q=Koloniale%20tentoonstelling%20Amsterdam%20(1883)&rows=25&page=4&sort=order_i_relevantie%20asc). Please note: these photos also show people from the former Dutch East Indies and Suriname who were exhibited.\n",
      "\n",
      "The various museums that subsequently received objects have archive material about objects from the World Exhibition. The National Archives in The Hague has the [documentation](https://www.nationaalarchief.nl/onderzoeken/archief/2.04.13/invnr/%402.~2.2~2.2.4~2.2.4.1~2.2.4.1.1~2.2.4.1.1.02~1617) on the purchase and distribution of the collections from the World Exhibition. The archive mainly consists of correspondence with various museums after the distribution had already been made. A clear list of the distribution of the collection is not available in this archive.\n",
      "\n",
      "\n",
      "## Related Aids\n",
      "\n",
      "_see also: [Civil servants](published/niveau2/English/CivilServants_20240316.yml)_  \n",
      "_see also: [Science](published/niveau2/English/Science_20240821.yml)_  \n",
      "_see also: [Trade](published/niveau2/English/Trade_20240316.yml)_  \n",
      "_see also: [Artis Ethnographic Museum](published/niveau3/English/EMArtis_20240712.yml)_  \n",
      "_see also: [Wereldmuseum Amsterdam](published/niveau3/English/WMAmsterdam_20240809.yml)_  \n",
      "_see also: [Wereldmuseum Leiden](published/niveau3/English/WMLeiden_20240508.yml)_  \n",
      "_see also: [Wereldmuseum Rotterdam](published/niveau3/English/WMRotterdam_2040822.yml)_  \n",
      "_see also: [Rijksmuseum Amsterdam](published/niveau3/English/RijksmuseumAmsterdam_20240905.yml)_  \n",
      "_see also: [Museum Nusantara](published/niveau3/English/MNusantara_20250225.yml)_  \n",
      "_see also: [Naturalis Biodiversity Center](published/niveau3/English/Naturalis_20270710.yml)_  \n",
      "_see also: [Museum Bronbeek](published/niveau3/English/Bronbeek_20241002.yml)_  \n",
      "\n",
      "## Primary sources\n",
      "\n",
      "**Archive**:\n",
      "  > Dutch National Archives, The Hague, Ministerie van Binnenlandse Zaken: Afdeling Kunsten en Wetenschappen, access number 2.04.13, inventory number 1617 - Stukken betreffende de verdeling van door het Rijk aangekochte en overgenomen voorwerpen op de Wereldtentoonstelling (Internationale Koloniale en Uitvoer Tentoonstelling) in Amsterdam  \n",
      "> [https://www.nationaalarchief.nl/onderzoeken/archief/2.04.13/invnr/%402.~2.2~2.2.4~2.2.4.1~2.2.4.1.1~2.2.4.1.1.02~1617](https://www.nationaalarchief.nl/onderzoeken/archief/2.04.13/invnr/%402.~2.2~2.2.4~2.2.4.1~2.2.4.1.1~2.2.4.1.1.02~1617)  \n",
      "> _Archive at the Department of Arts and Sciences of the Ministry of the Internal Affairs. Mainly contains correspondence about the distribution of objects after the World Exhibition._  \n",
      "\n",
      "**Archive**:\n",
      "  > City archives, Amsterdam, access number 30576 Collectie Stadsarchief Amsterdam: tentoonstellingen, inventory number 43-70 Internationale Koloniale en Algemene Uitvoerhandel Tentoonstelling, Amsterdam, mei - oktober 1883.  \n",
      "> [https://archief.amsterdam/inventarissen/file/49d013d5-0786-db08-da7f-085c767ce025](https://archief.amsterdam/inventarissen/file/49d013d5-0786-db08-da7f-085c767ce025)  \n",
      "> _General archive of the 1883 World Exhibition held at the Amsterdam City Archives. Includes, among other things, the regulations, opening speech and advertising material._  \n",
      "\n",
      "## Secondary sources\n",
      "\n",
      "**Catalogue**:\n",
      "  > Veth, P.J, G.A Wilken, en H.C Klinkert. Catalogus der afdeeling Nederlandsche Koloniën van de internationale koloniale en uitvoerhandel tentoonstelling (van 1 Mei tot ultimo October 1883) te Amsterdam (Leiden: E.J. Brill, 1883).  \n",
      "> [http://hdl.handle.net/1887.1/item:129051](http://hdl.handle.net/1887.1/item:129051), [WorldCat 680228146](https://search.worldcat.org/title/680228146)  \n",
      "> _Catalogue of the Dutch colonial exhibition at the World Exhibition, compiled by P.J. Veth. The catalogue consists of three parts, each describing one of the three groups of objects: “The territory of the colonised and ruled regions”, “The indigenous population of those regions” and Group III “The Europeans in those regions and their relations with the native people”._  \n",
      "\n",
      "**Catalgoue**:\n",
      "  > Serrurier, Lindor. Catalogus der ethnographische afdeeling van de Internationale Koloniale en Uitvoerhandel Tentoonstelling (van 1 Mei tot ult°. October 1883) te Amsterdam ( Leiden: E.J. Brill, 1883).  \n",
      "> [https://books.google.nl/books?id=twNWAAAAcAAJ&printsec=frontcover&hl=nl&source=gbs_ge_summary_r&cad=0#v=onepage&q=pitt&f=false](https://books.google.nl/books?id=twNWAAAAcAAJ&printsec=frontcover&hl=nl&source=gbs_ge_summary_r&cad=0#v=onepage&q=pitt&f=false), [WorldCat 1463298534](https://search.worldcat.org/title/1463298534), DOI: 10.1163/9789004589124  \n",
      "> _Catalogue of the other ethnographic collections, excluding those of the Dutch colonial pavilion, displayed at the World Exhibition. Compiled by Lindor Serrurier, then director of the Rijks Ethnographic Museum in Leiden (today's Wereldmuseum). Includes a description of the collection of Lieutenant General Pitt Rivers that was on display._  \n",
      "\n",
      "**Book**:\n",
      "  > Bonaparte, Roland. Les habitants de Suriname : notes recueillies à l’exposition coloniale d’Amsterdam en 1883 (Paris: Quantin, 1884).  \n",
      "> [http://hdl.handle.net/1887.1/item:972422](http://hdl.handle.net/1887.1/item:972422), [WorldCat 906298688](https://search.worldcat.org/title/906298688)  \n",
      "> _Book containing a collection of photographs of Surinamese people that were exhibited during the World Exhibition._  \n",
      "\n",
      "**Dissertatie**:\n",
      "  > Bloembergen, Marieke. Colonial Spectacles : The Netherlands and the Dutch East Indies at the World Exhibitions, 1880-1931 (Singapore: Singapore University Press, 2006).  \n",
      "> [https://search.worldcat.org/title/70176990](https://search.worldcat.org/title/70176990), [ISBN 9789971693305](https://isbnsearch.org/isbn/9789971693305), [WorldCat 70176990](https://search.worldcat.org/title/70176990)  \n",
      "> _Dissertation from 2001 by Marieke Bloembergen, that was translated to English in 2006. It examines the various ways in which the former Dutch East Indies were represented at various world exhibitions. In the second chapter it provides detailed information about the 1883 World Exhibition in Amsterdam._  \n",
      "\n",
      "**Article**:\n",
      "  > Alberdingk Thijm, J.A., 'De waereldtentoonstelling van 1883.' De Gids 47, no. 3 (1883): 292–310.  \n",
      "> [https://www.dbnl.org/tekst/_gid001188301_01/_gid001188301_01_0084.php](https://www.dbnl.org/tekst/_gid001188301_01/_gid001188301_01_0084.php)  \n",
      "> _Article by J.A. Alberdink Thijm in the magazine De Gids from 1883 about that year's Universal Exhibition in Amsterdam (in Dutch)._  \n",
      "\n",
      "\n",
      "\n",
      "---\n",
      "## Relevant Data \n",
      "Identifiers:\n",
      "  \n",
      "http://www.wikidata.org/entity/Q2417163\n",
      ",\n",
      "  Name variations:\n",
      "  \n",
      "Universal Exhibition of 1883\n",
      ",\n",
      "  Tags:\n",
      "  Activity:\n",
      "  \n",
      "[World's Fair](http://vocab.getty.edu/aat/300054778)\n",
      ",\n",
      "  Type of objects:\n",
      "  \n",
      "[Ethnographic objects](http://vocab.getty.edu/aat/300234108)\n",
      ",\n",
      "  Geographical:\n",
      "  \n",
      "[Indonesia](https://www.geonames.org/1643084), [Suriname] (https://sws.geonames.org/3382998), [ABCSSS islands](https://sws.geonames.org/8505032)\n",
      ",\n",
      "  Period of activity:\n",
      "  Year of start:\n",
      "  1883,\n",
      "  Year of end:\n",
      "  1883,\n",
      "  Collections:\n",
      "  General remarks:\n",
      "  content:\n",
      "  \"After the World's Fair of 1883, many of the displayed objects were distributed among various institutions in the Netherlands.\"\n",
      ",\n",
      "  content-type:\n",
      "  text/markdown,\n",
      "  Within the Data Hub:\n",
      "  https://app.colonialcollections.nl/nl/objects?query=wereldtentoonstelling+1883\n",
      "        \n"
     ]
    }
   ],
   "source": [
    "print(r())"
   ]
  },
  {
   "cell_type": "code",
   "execution_count": null,
   "id": "5b91eb07-4321-43f2-8400-81c2f2e01aa4",
   "metadata": {
    "scrolled": true
   },
   "outputs": [],
   "source": [
    "for y in yamls:\n",
    "    print(y.keys())"
   ]
  },
  {
   "cell_type": "code",
   "execution_count": null,
   "id": "669398ee-5377-4786-819a-547a96111c01",
   "metadata": {},
   "outputs": [],
   "source": [
    "# print(YAML2MD(yamls[1])())\n",
    "# yamls[3][\"Relevant data\"]#[\"Tags\"]\n",
    "print([s.keys() for s in yamls[2][\"Sources\"]['Secondary sources']][0], \"\\n---\")\n",
    "print([s.keys() for s in yamls[3][\"Sources\"]['Secondary sources']][0])\n",
    "\n"
   ]
  },
  {
   "cell_type": "code",
   "execution_count": null,
   "id": "501ead81-9f70-4806-adff-9a1aabe975a4",
   "metadata": {
    "scrolled": true
   },
   "outputs": [],
   "source": [
    "# print(Level2(yamls[2])())\n",
    "\n",
    "print(ResearchAid(yamls[0], raise_parsing_error=True)())"
   ]
  },
  {
   "cell_type": "code",
   "execution_count": null,
   "id": "3ad23abe-4dde-4d23-a0e2-c77ed8a6be2a",
   "metadata": {},
   "outputs": [],
   "source": [
    "with open(\"../published/niveau3/English/NZG_20240508.yml\") as handle:\n",
    "    yml = yaml.safe_load(handle)\n",
    "\n",
    "[d.keys() for d in yml[\"Sources\"]['Secondary sources']]\n",
    "yml[\"Sources\"]['Secondary sources']"
   ]
  }
 ],
 "metadata": {
  "kernelspec": {
   "display_name": "Python 3 (ipykernel)",
   "language": "python",
   "name": "python3"
  },
  "language_info": {
   "codemirror_mode": {
    "name": "ipython",
    "version": 3
   },
   "file_extension": ".py",
   "mimetype": "text/x-python",
   "name": "python",
   "nbconvert_exporter": "python",
   "pygments_lexer": "ipython3",
   "version": "3.12.7"
  }
 },
 "nbformat": 4,
 "nbformat_minor": 5
}
